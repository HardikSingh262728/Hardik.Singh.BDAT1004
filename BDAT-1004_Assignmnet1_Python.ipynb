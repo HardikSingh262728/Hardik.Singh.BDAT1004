{
 "cells": [
  {
   "cell_type": "code",
   "execution_count": 1,
   "id": "0d5ec8bf-fa05-4113-8e42-2d4f3aba7bda",
   "metadata": {},
   "outputs": [
    {
     "name": "stdout",
     "output_type": "stream",
     "text": [
      "appyhay\n",
      "encilpay\n",
      "enterway\n",
      "otherway\n",
      "ananasway\n"
     ]
    }
   ],
   "source": [
    "#******************************************************** Answer - 6 ***********************************************************************\n",
    "\n",
    "def pig(word):\n",
    "    word = word.lower()                            #word will be in lower case\n",
    "    vowels = ['a', 'e', 'i', 'o', 'u']\n",
    "\n",
    "    if word[0] in vowels:\n",
    "        return word + 'way'\n",
    "    else:\n",
    "        return word[1:] + word[0] + 'ay'           #word[1:] semicolon after 1 means it will continue withw the rest of the array\n",
    "\n",
    "print(pig('happy'))\n",
    "print(pig('Pencil'))\n",
    "print(pig('enter'))\n",
    "print(pig('Other'))\n",
    "print(pig('Ananas'))"
   ]
  },
  {
   "cell_type": "code",
   "execution_count": 54,
   "id": "dafd96d2-9775-4fe8-99e1-7e0b084b2b3b",
   "metadata": {},
   "outputs": [
    {
     "name": "stdout",
     "output_type": "stream",
     "text": [
      "There are \u001b[1m15\u001b[0m patients of blood type \u001b[1mA\u001b[0m.\n",
      "There is   \u001b[1m1\u001b[0m patient of blood type  \u001b[1mB\u001b[0m.\n",
      "There are \u001b[1m13\u001b[0m patients of blood type \u001b[1mAB\u001b[0m.\n",
      "There are \u001b[1m15\u001b[0m patients of blood type \u001b[1mO\u001b[0m.\n",
      "There are \u001b[1mno\u001b[0m patients of blood type \u001b[1mOO\u001b[0m.\n"
     ]
    }
   ],
   "source": [
    "\n",
    "#******************************************************** Answer - 7 ***********************************************************************\n",
    "\n",
    "def bldcount(filename):\n",
    " with open(r\"C:\\Users\\hardi\\Downloads\\blood.txt\") as file:             #downloaded the file to a location and opened\n",
    "    blood_types = file.read().split()                                 #read the file and then the content of file is splitted.\n",
    "    \n",
    "    types = ['A', 'B', 'AB', 'O', 'OO']\n",
    " for t in types:                                                      # t as 1 bit of data in the list\n",
    "            count = blood_types.count(t)                              # counts t in out file\n",
    "            if count == 0:\n",
    "                print(f\"There are \\x1b[1mno\\x1b[0m patients of blood type \\x1b[1m{t}\\x1b[0m.\")\n",
    "            elif count == 1:\n",
    "                print(f\"There is   \\x1b[1m{count}\\x1b[0m patient of blood type  \\x1b[1m{t}\\x1b[0m.\")\n",
    "            else:\n",
    "                print(f\"There are \\x1b[1m{count}\\x1b[0m patients of blood type \\x1b[1m{t}\\x1b[0m.\")\n",
    "\n",
    "bldcount('blood.txt')"
   ]
  },
  {
   "cell_type": "code",
   "execution_count": 93,
   "id": "ffc9f41f-9903-4f2d-83dd-b968b998bd28",
   "metadata": {},
   "outputs": [
    {
     "name": "stdout",
     "output_type": "stream",
     "text": [
      "1.) Euro to Dollar is             $ 122.96544\n",
      "2.) Japnese Yen to Dollar is      $ 1.241401\n",
      "3.) Australian Dollar to Dollar   $ 103.45157\n",
      "4.) Swiss Franc to Dollar         $ 102.37414\n",
      "5.) Chinese Yuan to Dollar        $ 15.50176\n",
      "6.) Danish Knone to Dollar        $ 16.514419999999998\n",
      "7.) British Pound to Dollar       $ 155.50988999999998\n",
      "8.) Hong Kong Dollar to Dollar    $ 12.702069999999999\n",
      "9.) Indian Rupee to Dollar        $ 1.77643\n",
      "10.) Mexican Peso to Dollar       $ 7.518479999999999\n",
      "11.) Malaysian Ringgit to Dollar  $ 31.45411\n",
      "12.) Norwegian Krone to Dollar    $ 16.77063\n",
      "13.) New Zealand Dollar to Dollar $ 80.03591\n",
      "14.) Philippine Peso to Dollar    $ 2.3323400000000003\n",
      "15.) Swedish Krona to Dollar      $ 14.826900000000002\n",
      "16.) Singapore Dollar to Dollar   $ 78.8871\n",
      "17.) Thai Baht to Dollar          $ 3.13789\n"
     ]
    }
   ],
   "source": [
    "\n",
    "#******************************************************** Answer - 8 ***********************************************************************\n",
    "\n",
    "def curconv(currency, amount):\n",
    "    exchng = {\n",
    "        'EUR': 1.2296544, #Euro\n",
    "        'JPY': 0.01241401, #Japanese Yen\n",
    "        'AUD':1.0345157, #Australian Dollar\n",
    "'CHF':1.0237414, #Swiss Franc\n",
    "'CNY':0.1550176, #Chinese Yuan\n",
    "'DKK':0.1651442, #Danish Krone\n",
    "'GBP':1.5550989, #British Pound\n",
    "'HKD':0.1270207, #Hong Kong Dollar\n",
    "'INR':0.0177643, #Indian Rupee\n",
    "'MXN':0.0751848, #Mexican Peso\n",
    "'MYR':0.3145411, #Malaysian Ringgit\n",
    "'NOK':0.1677063, #Norwegian Krone\n",
    "'NZD':0.8003591, #New Zealand Dollar\n",
    "'PHP':0.0233234, #Philippine Peso\n",
    "'SEK':0.148269, #Swedish Krona\n",
    "'SGD':0.788871, #Singapore Dollar\n",
    "'THB':0.0313789, #Thai Baht\n",
    "    }\n",
    "\n",
    "    if currency not in exchng:\n",
    "        raise ValueError(f\"Unsupported currency: {currency}\")\n",
    "\n",
    "    return amount * exchng[currency]\n",
    "\n",
    "\n",
    "print(\"1.) Euro to Dollar is            \", \"$\", curconv('EUR',100))     #calling the function to print the currency\n",
    "print(\"2.) Japnese Yen to Dollar is     \",\"$\", curconv('JPY',100)) \n",
    "print(\"3.) Australian Dollar to Dollar  \", \"$\", curconv('AUD',100))\n",
    "print(\"4.) Swiss Franc to Dollar        \", \"$\", curconv('CHF',100))\n",
    "\n",
    "print(\"5.) Chinese Yuan to Dollar       \", \"$\", curconv('CNY',100))\n",
    "print(\"6.) Danish Knone to Dollar       \", \"$\", curconv('DKK',100))\n",
    "print(\"7.) British Pound to Dollar      \", \"$\", curconv('GBP',100))\n",
    "print(\"8.) Hong Kong Dollar to Dollar   \", \"$\", curconv('HKD',100))\n",
    "\n",
    "print(\"9.) Indian Rupee to Dollar       \", \"$\", curconv('INR',100))\n",
    "print(\"10.) Mexican Peso to Dollar      \", \"$\", curconv('MXN',100))\n",
    "print(\"11.) Malaysian Ringgit to Dollar \", \"$\", curconv('MYR',100))\n",
    "print(\"12.) Norwegian Krone to Dollar   \", \"$\", curconv('NOK',100))\n",
    "\n",
    "print(\"13.) New Zealand Dollar to Dollar\", \"$\", curconv('NZD',100))\n",
    "print(\"14.) Philippine Peso to Dollar   \", \"$\", curconv('PHP',100))\n",
    "print(\"15.) Swedish Krona to Dollar     \", \"$\", curconv('SEK',100))\n",
    "print(\"16.) Singapore Dollar to Dollar  \", \"$\", curconv('SGD',100))\n",
    "\n",
    "print(\"17.) Thai Baht to Dollar         \", \"$\", curconv('THB',100))\n"
   ]
  },
  {
   "cell_type": "code",
   "execution_count": null,
   "id": "7451f501-c2b2-459e-a989-b30b9fe47f06",
   "metadata": {},
   "outputs": [],
   "source": []
  },
  {
   "cell_type": "code",
   "execution_count": null,
   "id": "8b82910d-ee95-48f6-aea4-ae81d4cd8e68",
   "metadata": {},
   "outputs": [],
   "source": []
  },
  {
   "cell_type": "code",
   "execution_count": null,
   "id": "8c0e1e42-22dd-4cdb-a3ee-5158c05d5f8a",
   "metadata": {},
   "outputs": [],
   "source": []
  },
  {
   "cell_type": "code",
   "execution_count": null,
   "id": "a40e2192-f714-422b-ab88-12be143d8937",
   "metadata": {},
   "outputs": [],
   "source": []
  },
  {
   "cell_type": "code",
   "execution_count": null,
   "id": "931bb2f4-d079-4600-8562-d7c9855d18d0",
   "metadata": {},
   "outputs": [],
   "source": []
  }
 ],
 "metadata": {
  "kernelspec": {
   "display_name": "Python 3 (ipykernel)",
   "language": "python",
   "name": "python3"
  },
  "language_info": {
   "codemirror_mode": {
    "name": "ipython",
    "version": 3
   },
   "file_extension": ".py",
   "mimetype": "text/x-python",
   "name": "python",
   "nbconvert_exporter": "python",
   "pygments_lexer": "ipython3",
   "version": "3.9.7"
  }
 },
 "nbformat": 4,
 "nbformat_minor": 5
}
