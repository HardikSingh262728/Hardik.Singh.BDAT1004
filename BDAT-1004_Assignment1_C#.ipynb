{
 "cells": [
  {
   "cell_type": "code",
   "execution_count": 23,
   "id": "218bece1-7cd7-4ca3-ae6e-f628a4e5ab28",
   "metadata": {},
   "outputs": [
    {
     "name": "stdout",
     "output_type": "stream",
     "text": [
      "\n",
      "1.) Data Type of 5          = System.Int32\n",
      "\n",
      "2.) Data Type of 5.0        = System.Double\n",
      "\n",
      "3.) Data Type of 5 > 1      = System.Boolean\n",
      "\n",
      "4.) Data Type of '5'        = System.Char\n",
      "\n",
      "5.) Data Type of 5 * 2      = System.Int32\n",
      "\n",
      "6.) Data Type of '5' * 2    = System.Int32\n",
      "\n",
      "7.) Data Type of '5' + '2'  = System.Int32\n",
      "\n",
      "8.) Data Type of 5 / 2      = System.Int32\n",
      "\n",
      "9.) Data Type of 5 %2       = System.Int32\n",
      "\n",
      "10.) Data Type of {5, 2, 1} = System.Collections.Generic.HashSet`1[System.Int32]\n",
      "\n",
      "11.) Data Type of '5 == 3'  = System.Boolean\n",
      "\n",
      "12.) Data Type of Pi        = System.Double\n"
     ]
    }
   ],
   "source": [
    "\n",
    "//************************************************************* Answer - 1 **************************************************************** \n",
    "\n",
    " // 1. Integer 5\n",
    "       Console.WriteLine(\"\\n1.) Data Type of 5          = \" + 5.GetType()); // .GetType() for getting the type of user's input.\n",
    "\n",
    "\n",
    " // 2. Floating point number 5.0\n",
    "        Console.WriteLine(\"\\n2.) Data Type of 5.0        = \" + 5.0.GetType());\n",
    "\n",
    "\n",
    " // 3. Boolean expression 5>1\n",
    "        Console.WriteLine(\"\\n3.) Data Type of 5 > 1      = \" + (5 > 1).GetType());\n",
    "\n",
    "\n",
    " // 4. Character '5'\n",
    "      Console.WriteLine(\"\\n4.) Data Type of '5'        = \" + '5'.GetType());\n",
    "\n",
    "\n",
    " // 5. Arithmetic expression 5*2\n",
    "        Console.WriteLine(\"\\n5.) Data Type of 5 * 2      = \" + (5 * 2).GetType());\n",
    "\n",
    "\n",
    " // 6. Character treated as integer '5' *2\n",
    "       Console.WriteLine(\"\\n6.) Data Type of '5' * 2    = \" + ('5' * 2).GetType());\n",
    "\n",
    "\n",
    " // 7. Addition of characters is an integer which would be sum of ASCII values\n",
    "       Console.WriteLine(\"\\n7.) Data Type of '5' + '2'  = \" + ('5' + '2').GetType());\n",
    "\n",
    "\n",
    " // 8. Arithematic Operation (division) 0f 5 and 2\n",
    "       Console.WriteLine(\"\\n8.) Data Type of 5 / 2      = \" + (5 / 2).GetType());\n",
    "\n",
    "\n",
    " // 9. Modulus or remainder \n",
    "        Console.WriteLine(\"\\n9.) Data Type of 5 %2       = \" + (5 % 2).GetType());\n",
    "\n",
    "\n",
    " // 10. Collections of integer \n",
    "        HashSet<int> set = new HashSet<int> {5, 2, 1 }; //HashSet is a inbuilt function which is use to store unique elements randomly.\n",
    "        Console.WriteLine(\"\\n10.) Data Type of {5, 2, 1} = \" + set.GetType());\n",
    "\n",
    "\n",
    " // 11. Equality comparison\n",
    "        Console.WriteLine(\"\\n11.) Data Type of '5 == 3'  = \" + (5 == 3).GetType());\n",
    "\n",
    "\n",
    " // 12. Constant\n",
    "        Console.WriteLine(\"\\n12.) Data Type of Pi        = \" + Math.PI.GetType());\n"
   ]
  },
  {
   "cell_type": "code",
   "execution_count": 67,
   "id": "cf79fbec-4f24-4aa0-abf3-57d2d980547b",
   "metadata": {},
   "outputs": [
    {
     "name": "stdout",
     "output_type": "stream",
     "text": [
      "1.) The word 'Supercalifragilisticexpialidocious has \u001b[1m34\u001b[0m letters.\n",
      "\n",
      "2.) Does the word 'Supercalifragilisticexpialidocious' contain 'ice'? \n",
      "    \u001b[1mTrue\u001b[0m\n",
      "\n",
      "3.) The longest word is = \u001b[1mSupercalifragilisticexpialidocious\u001b[0m\n",
      "\n",
      "4.) The first composer in dictionary order    = \u001b[1mBartok\u001b[0m\n",
      "    The last composer in dictionary order is  = \u001b[1mBuxtehude\u001b[0m\n"
     ]
    }
   ],
   "source": [
    "\n",
    "//**************************************************************** Answer - 2 **************************************************************\n",
    "\n",
    "        string word = \"Supercalifragilisticexpialidocious\";\n",
    "\n",
    " // 1. Letter Count.\n",
    "        Console.WriteLine(\"1.) The word '\" + word + \" has \" + \"\\x1b[1m\" + word.Length + \"\\x1b[0m\" + \" letters.\"); //in built function used and \"\\x1b[1m \\x1b[0m\" to bold a string syntax for enter and exit respectively. \n",
    "\n",
    " // 2. Confirmation of Sub-string.\n",
    "        Console.WriteLine(\"\\n2.) Does the word '\" + word + \"' contain 'ice'? \" + \"\\n    \" +  \"\\x1b[1m\" + word.Contains(\"ice\") + \"\\x1b[0m\");   // in built function\n",
    "\n",
    " // 3. Longest Word. \n",
    "        string[] words = { word, \"Honorificabilitudinitatibus\", \"Bababadalgharaghtakamminarronnkonn\" }; //created string called words\n",
    "        string longest = words.OrderByDescending(s => s.Length).First();                                //created string \"longest\" in which strings will be ordered by descending order, letters will be counted  and then longest word will be printed.\n",
    "        Console.WriteLine(\"\\n3.) The longest word is = \" + \"\\x1b[1m\" + longest + \"\\x1b[0m\");\n",
    "\n",
    " // 4. First and last in a string.\n",
    "        string[] composers = { \"Berlioz\", \"Borodin\", \"Brian\", \"Bartok\", \"Bellini\", \"Buxtehude\", \"Bernstein\" };\n",
    "        Array.Sort(composers);                                                                                 //in built fuction used.\n",
    "        Console.WriteLine(\"\\n4.) The first composer in dictionary order    = \" + \"\\x1b[1m\" + composers[0] + \"\\x1b[0m\");\n",
    "        Console.WriteLine(\"    The last composer in dictionary order is  = \" + \"\\x1b[1m\" + composers[composers.Length - 1] + \"\\x1b[0m\");\n",
    "\n"
   ]
  },
  {
   "cell_type": "code",
   "execution_count": 171,
   "id": "577ec472-1f3d-46c3-896e-c1bcc909c970",
   "metadata": {},
   "outputs": [
    {
     "name": "stdout",
     "output_type": "stream",
     "text": [
      "1.7320508075688772\n"
     ]
    }
   ],
   "source": [
    "//**************************************************************** Answer - 3 **************************************************************\n",
    "\n",
    "\n",
    "Console.WriteLine(TriangleArea(2, 2, 2)); //unit of side 2 given by user.\n",
    "    \n",
    "public static double TriangleArea(double a, double b, double c) //kept side type double so that output should come in long decimals \n",
    "{\n",
    " double s = (a + b + c) / 2;\n",
    " return Math.Sqrt(s * (s - a) * (s - b) * (s - c)); // square root = Sqrt combined with .Math function\n",
    "}\n",
    "\n"
   ]
  },
  {
   "cell_type": "code",
   "execution_count": 173,
   "id": "6911b4c0-c3fa-4e2c-8ef3-58428055e557",
   "metadata": {},
   "outputs": [
    {
     "name": "stdout",
     "output_type": "stream",
     "text": [
      "Even Numbers are :42\n",
      "Even Numbers are :56\n",
      "Even Numbers are :32\n",
      "\n",
      "\n",
      "Odd Numbers are :\u001b[1m25\u001b[0m\n",
      "Odd Numbers are :\u001b[1m47\u001b[0m\n"
     ]
    }
   ],
   "source": [
    "//**************************************************************** Answer - 4 **************************************************************\n",
    "\n",
    "int[] a = {25,47,42,56,32};\n",
    "   \n",
    "foreach (var num in a) //picking up every variable in our array (integer) \n",
    "{\n",
    "              if (num%2==0)\n",
    "              {\n",
    "                  Console.WriteLine(\"Even Numbers are :\" + num); //only printing even\n",
    "              }\n",
    "}\n",
    "\n",
    "Console.WriteLine(\"\\n\");\n",
    "\n",
    "foreach (var num in a)\n",
    "{\n",
    "    if (num%2!=0)\n",
    "    {\n",
    "    Console.WriteLine(\"Odd Numbers are :\" + \"\\x1b[1m\"+ num+ \"\\x1b[0m\");\n",
    "    }  \n",
    "}"
   ]
  },
  {
   "cell_type": "code",
   "execution_count": 172,
   "id": "a7e0aa4a-5b37-4a65-912d-b912ea1ded12",
   "metadata": {},
   "outputs": [
    {
     "name": "stdout",
     "output_type": "stream",
     "text": [
      "True\n",
      "False\n",
      "\n",
      "\u001b[1mPart B \u001b[0m\n",
      "False\n",
      "False\n"
     ]
    }
   ],
   "source": [
    "//**************************************************************** Answer - 5 **************************************************************\n",
    "  \n",
    "Console.WriteLine(Inside(1, 1, 0, 0, 2, 3));\n",
    "Console.WriteLine(Inside(-1, -1, 0, 0, 2, 3));  \n",
    "\n",
    "    bool first = Inside(1, 1, 1, 1.5, 1.1, 5) && Inside(-1, -1, 0, 0, 2, 3); //checking whether the points lie or not by using 'bool' in built function.\n",
    "    Console.WriteLine(\"\\n\\x1b[1mPart B \\x1b[0m\" + \"\\n\"+ first );\n",
    "\n",
    "\n",
    "\n",
    "\n",
    "//Part B of the question.\n",
    "bool second = Inside(1, 1, 0.3, 0.5, 1.1, 0.7) && Inside(1, 1, 0.5, 0.2, 1.1, 2);\n",
    "Console.WriteLine(second);  \n",
    "\n",
    "\n",
    "\n",
    "public static bool Inside(double x, double y, double x1, double y1, double x2, double y2)\n",
    "    {\n",
    "        if (x >= x1 && x <= x2 && y >= y1 && y <= y2) //logic\n",
    "        {\n",
    "            return true;\n",
    "        }\n",
    "    else\n",
    "        return false; \n",
    "    } \n",
    "    "
   ]
  },
  {
   "cell_type": "code",
   "execution_count": null,
   "id": "019c2f8f-01df-44a6-9806-d2c0d3158813",
   "metadata": {},
   "outputs": [],
   "source": []
  }
 ],
 "metadata": {
  "kernelspec": {
   "display_name": ".NET (C#)",
   "language": "C#",
   "name": ".net-csharp"
  },
  "language_info": {
   "file_extension": ".cs",
   "mimetype": "text/x-csharp",
   "name": "C#",
   "pygments_lexer": "csharp",
   "version": "11.0"
  }
 },
 "nbformat": 4,
 "nbformat_minor": 5
}
